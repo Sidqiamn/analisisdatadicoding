{
 "cells": [
  {
   "cell_type": "code",
   "execution_count": 2,
   "id": "14a2afae-c265-4542-9116-5f175c394287",
   "metadata": {},
   "outputs": [
    {
     "name": "stdout",
     "output_type": "stream",
     "text": [
      "Data telah disimpan ke 'all_data.csv'\n"
     ]
    }
   ],
   "source": [
    "import numpy as np\n",
    "import pandas as pd\n",
    "import matplotlib.pyplot as plt\n",
    "import seaborn as sns\n",
    "\n",
    "# Load semua dataset\n",
    "order_items_df = pd.read_csv(\"order_items_dataset.csv\")\n",
    "order_reviews_df = pd.read_csv(\"order_reviews_dataset.csv\")\n",
    "products_df = pd.read_csv(\"products_dataset.csv\")\n",
    "products_translate_df = pd.read_csv(\"product_category_name_translation.csv\")\n",
    "orders_df = pd.read_csv(\"orders_dataset.csv\")\n",
    "customers_df = pd.read_csv(\"customers_dataset.csv\")\n",
    "\n",
    "\n",
    "# Gabungkan order_items_df dengan products_df berdasarkan product_id\n",
    "all_df = pd.merge(order_items_df, products_df, on=\"product_id\", how=\"inner\")\n",
    "\n",
    "# Gabungkan dengan products_translate_df untuk nama kategori produk dalam bahasa Inggris\n",
    "all_df = pd.merge(all_df, products_translate_df, on=\"product_category_name\", how=\"left\")\n",
    "all_df[\"product_category_name\"] = all_df[\"product_category_name_english\"]\n",
    "\n",
    "# Gabungkan dengan orders_df berdasarkan order_id\n",
    "all_df = pd.merge(all_df, orders_df, on=\"order_id\", how=\"inner\")\n",
    "\n",
    "# Gabungkan dengan customers_df berdasarkan customer_id\n",
    "all_df = pd.merge(all_df, customers_df, on=\"customer_id\", how=\"inner\")\n",
    "\n",
    "# Gabungkan dengan order_reviews_df berdasarkan order_id\n",
    "all_df = pd.merge(all_df, order_reviews_df, on=\"order_id\", how=\"inner\")\n",
    "\n",
    "# Tambahkan kolom total_price (price + freight_value) seperti pada kode RFM\n",
    "all_df[\"total_price\"] = all_df[\"price\"] + all_df[\"freight_value\"]\n",
    "\n",
    "# Konversi order_purchase_timestamp ke datetime untuk keperluan RFM\n",
    "all_df[\"order_date\"] = pd.to_datetime(all_df[\"order_purchase_timestamp\"])\n",
    "\n",
    "# Simpan semua data yang telah digabungkan ke file CSV\n",
    "all_df.to_csv(\"all_data.csv\", index=False)\n",
    "print(\"Data telah disimpan ke 'all_data.csv'\")"
   ]
  },
  {
   "cell_type": "code",
   "execution_count": null,
   "id": "9f404981-e1b4-40b0-a1da-e04daa0afcbf",
   "metadata": {},
   "outputs": [],
   "source": []
  }
 ],
 "metadata": {
  "kernelspec": {
   "display_name": "Python 3 (ipykernel)",
   "language": "python",
   "name": "python3"
  },
  "language_info": {
   "codemirror_mode": {
    "name": "ipython",
    "version": 3
   },
   "file_extension": ".py",
   "mimetype": "text/x-python",
   "name": "python",
   "nbconvert_exporter": "python",
   "pygments_lexer": "ipython3",
   "version": "3.13.2"
  }
 },
 "nbformat": 4,
 "nbformat_minor": 5
}
